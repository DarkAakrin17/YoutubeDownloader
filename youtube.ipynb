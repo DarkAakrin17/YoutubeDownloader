{
 "cells": [
  {
   "cell_type": "code",
   "execution_count": 10,
   "id": "3ed3bcdd-39fe-4a3a-8a7b-ae5cbb797d22",
   "metadata": {},
   "outputs": [
    {
     "name": "stdout",
     "output_type": "stream",
     "text": [
      "Requirement already satisfied: pytube in /opt/anaconda3/lib/python3.12/site-packages (15.0.0)\n",
      "Requirement already satisfied: moviepy in /opt/anaconda3/lib/python3.12/site-packages (2.1.2)\n",
      "Requirement already satisfied: decorator<6.0,>=4.0.2 in /opt/anaconda3/lib/python3.12/site-packages (from moviepy) (5.1.1)\n",
      "Requirement already satisfied: imageio<3.0,>=2.5 in /opt/anaconda3/lib/python3.12/site-packages (from moviepy) (2.33.1)\n",
      "Requirement already satisfied: imageio_ffmpeg>=0.2.0 in /opt/anaconda3/lib/python3.12/site-packages (from moviepy) (0.6.0)\n",
      "Requirement already satisfied: numpy>=1.25.0 in /opt/anaconda3/lib/python3.12/site-packages (from moviepy) (1.26.4)\n",
      "Requirement already satisfied: proglog<=1.0.0 in /opt/anaconda3/lib/python3.12/site-packages (from moviepy) (0.1.10)\n",
      "Requirement already satisfied: python-dotenv>=0.10 in /opt/anaconda3/lib/python3.12/site-packages (from moviepy) (0.21.0)\n",
      "Requirement already satisfied: pillow<11.0,>=9.2.0 in /opt/anaconda3/lib/python3.12/site-packages (from moviepy) (10.3.0)\n",
      "Requirement already satisfied: tqdm in /opt/anaconda3/lib/python3.12/site-packages (from proglog<=1.0.0->moviepy) (4.66.4)\n"
     ]
    }
   ],
   "source": [
    "!pip install pytube moviepy"
   ]
  },
  {
   "cell_type": "code",
   "execution_count": 14,
   "id": "4ffd0a91-88f8-4989-b699-2576ee98ffb8",
   "metadata": {},
   "outputs": [
    {
     "name": "stdin",
     "output_type": "stream",
     "text": [
      "Enter the YouTube video URL:  https://www.youtube.com/watch?v=bdBpLP3gT1Q&t=1817s\n",
      "Enter the output file name (e.g., output.mp3):  madharasapattinam.mp4\n"
     ]
    },
    {
     "name": "stdout",
     "output_type": "stream",
     "text": [
      "An error occurred: HTTP Error 403: Forbidden\n"
     ]
    }
   ],
   "source": [
    "import os\n",
    "from pytube import YouTube\n",
    "from moviepy import AudioFileClip\n",
    "\n",
    "def download_youtube_audio(url, output_path=\"output.mp3\"):\n",
    "    try:\n",
    "        # Download the video using pytube\n",
    "        yt = YouTube(url)\n",
    "        video = yt.streams.filter(only_audio=True).first()\n",
    "        video.download(filename=\"temp_video.mp4\")\n",
    "\n",
    "        # Convert the downloaded video to MP3 using moviepy\n",
    "        audio_clip = AudioFileClip(\"temp_video.mp4\")\n",
    "        audio_clip.write_audiofile(output_path)\n",
    "\n",
    "        # Clean up the temporary video file\n",
    "        audio_clip.close()\n",
    "        os.remove(\"temp_video.mp4\")\n",
    "\n",
    "        print(f\"Audio successfully downloaded and saved as {output_path}\")\n",
    "\n",
    "    except Exception as e:\n",
    "        print(f\"An error occurred: {e}\")\n",
    "\n",
    "if __name__ == \"__main__\":\n",
    "    # Example usage\n",
    "    youtube_url = input(\"Enter the YouTube video URL: \")\n",
    "    output_file = input(\"Enter the output file name (e.g., output.mp3): \")\n",
    "    download_youtube_audio(youtube_url, output_file)"
   ]
  },
  {
   "cell_type": "code",
   "execution_count": 6,
   "id": "fd67018d-bbc3-400c-a2fe-6d1b9e1aaac5",
   "metadata": {},
   "outputs": [
    {
     "name": "stdin",
     "output_type": "stream",
     "text": [
      "Enter the YouTube video URL:  https://www.youtube.com/watch?v=idpCrUiyAOo\n",
      "Enter the output file name (e.g., output.mp4):  cars\n",
      "Enter the folder path to save the video (press Enter for current folder):  \n"
     ]
    },
    {
     "name": "stdout",
     "output_type": "stream",
     "text": [
      "❌ An error occurred: HTTP Error 400: Bad Request\n"
     ]
    }
   ],
   "source": [
    "from pytube import YouTube\n",
    "import os\n",
    "\n",
    "def download_youtube_video(url, output_file=\"output.mp4\", output_dir=\".\"):\n",
    "    try:\n",
    "        yt = YouTube(url)\n",
    "\n",
    "        # Get the highest resolution progressive stream (video + audio)\n",
    "        stream = yt.streams.filter(progressive=True, file_extension=\"mp4\").get_highest_resolution()\n",
    "\n",
    "        # Make sure output directory exists\n",
    "        os.makedirs(output_dir, exist_ok=True)\n",
    "\n",
    "        # Download into the folder with custom filename\n",
    "        print(f\"Downloading: {yt.title}...\")\n",
    "        stream.download(output_path=output_dir, filename=output_file)\n",
    "\n",
    "        print(f\"✅ Video successfully downloaded and saved as {os.path.join(output_dir, output_file)}\")\n",
    "\n",
    "    except Exception as e:\n",
    "        print(f\"❌ An error occurred: {e}\")\n",
    "\n",
    "if __name__ == \"__main__\":\n",
    "    youtube_url = input(\"Enter the YouTube video URL: \")\n",
    "    output_file = input(\"Enter the output file name (e.g., output.mp4): \")\n",
    "    output_dir = input(\"Enter the folder path to save the video (press Enter for current folder): \").strip() or \".\"\n",
    "\n",
    "    download_youtube_video(youtube_url, output_file, output_dir)\n"
   ]
  },
  {
   "cell_type": "code",
   "execution_count": 16,
   "id": "5930b227-f122-4a88-8869-e37bd7e9863c",
   "metadata": {},
   "outputs": [
    {
     "name": "stdout",
     "output_type": "stream",
     "text": [
      "Collecting yt-dlp\n",
      "  Downloading yt_dlp-2025.2.19-py3-none-any.whl.metadata (171 kB)\n",
      "Downloading yt_dlp-2025.2.19-py3-none-any.whl (3.2 MB)\n",
      "\u001b[2K   \u001b[90m━━━━━━━━━━━━━━━━━━━━━━━━━━━━━━━━━━━━━━━━\u001b[0m \u001b[32m3.2/3.2 MB\u001b[0m \u001b[31m31.7 MB/s\u001b[0m eta \u001b[36m0:00:00\u001b[0m\n",
      "\u001b[?25hInstalling collected packages: yt-dlp\n",
      "Successfully installed yt-dlp-2025.2.19\n"
     ]
    }
   ],
   "source": [
    "!pip install yt-dlp"
   ]
  },
  {
   "cell_type": "code",
   "execution_count": 2,
   "id": "c504c3b8-a0fd-4399-a9df-bb7501e5be31",
   "metadata": {},
   "outputs": [
    {
     "name": "stdin",
     "output_type": "stream",
     "text": [
      "Enter the YouTube video URL:  https://youtube.com/shorts/oi9lQTbysVU?feature=shared\n",
      "Enter the output file name (e.g., output.mp3):  saiyaaira.mp3\n"
     ]
    },
    {
     "name": "stdout",
     "output_type": "stream",
     "text": [
      "[youtube] Extracting URL: https://youtube.com/shorts/oi9lQTbysVU?feature=shared\n",
      "[youtube] oi9lQTbysVU: Downloading webpage\n",
      "[youtube] oi9lQTbysVU: Downloading tv client config\n",
      "[youtube] oi9lQTbysVU: Downloading player 5ec65609\n",
      "[youtube] oi9lQTbysVU: Downloading tv player API JSON\n",
      "[youtube] oi9lQTbysVU: Downloading ios player API JSON\n"
     ]
    },
    {
     "name": "stderr",
     "output_type": "stream",
     "text": [
      "WARNING: [youtube] oi9lQTbysVU: Signature extraction failed: Some formats may be missing\n"
     ]
    },
    {
     "name": "stdout",
     "output_type": "stream",
     "text": [
      "[youtube] oi9lQTbysVU: Downloading m3u8 information\n",
      "[info] oi9lQTbysVU: Downloading 1 format(s): 234\n",
      "[hlsnative] Downloading m3u8 manifest\n",
      "[hlsnative] Total fragments: 5\n",
      "[download] Destination: saiyaaira.mp3\n",
      "[download] 100% of  478.12KiB in 00:00:03 at 139.10KiB/s             \n",
      "[ExtractAudio] Destination: saiyaaira.mp3.mp3\n",
      "Deleting original file saiyaaira.mp3 (pass -k to keep)\n",
      "Audio successfully downloaded and saved as saiyaaira.mp3\n"
     ]
    }
   ],
   "source": [
    "import os\n",
    "from yt_dlp import YoutubeDL\n",
    "\n",
    "def download_youtube_audio(url, output_path=\"output.mp3\"):\n",
    "    try:\n",
    "        # Set options for yt-dlp\n",
    "        ydl_opts = {\n",
    "            'format': 'bestaudio/best',  # Download the best quality audio\n",
    "            'outtmpl': output_path,      # Output file name\n",
    "            'postprocessors': [{        # Convert to MP3\n",
    "                'key': 'FFmpegExtractAudio',\n",
    "                'preferredcodec': 'mp3',\n",
    "                'preferredquality': '192',\n",
    "            }],\n",
    "            'ffmpeg_location': '/opt/homebrew/bin/ffmpeg',  # Manually specify ffmpeg path\n",
    "        }\n",
    "\n",
    "        # Download the video/audio\n",
    "        with YoutubeDL(ydl_opts) as ydl:\n",
    "            ydl.download([url])\n",
    "\n",
    "        print(f\"Audio successfully downloaded and saved as {output_path}\")\n",
    "\n",
    "    except Exception as e:\n",
    "        print(f\"An error occurred: {e}\")\n",
    "\n",
    "if __name__ == \"__main__\":\n",
    "    # Example usage\n",
    "    youtube_url = input(\"Enter the YouTube video URL: \")\n",
    "    output_file = input(\"Enter the output file name (e.g., output.mp3): \")\n",
    "    download_youtube_audio(youtube_url, output_file)"
   ]
  },
  {
   "cell_type": "code",
   "execution_count": 26,
   "id": "9e22f82e-7d92-4520-ac04-b8b1cd47235a",
   "metadata": {},
   "outputs": [
    {
     "name": "stdout",
     "output_type": "stream",
     "text": [
      "Requirement already satisfied: yt-dlp in /opt/anaconda3/lib/python3.12/site-packages (2025.2.19)\n"
     ]
    }
   ],
   "source": [
    "!pip install --upgrade yt-dlp"
   ]
  },
  {
   "cell_type": "code",
   "execution_count": 4,
   "id": "7b46db22-4e34-4c14-ba26-bd9b807f0293",
   "metadata": {},
   "outputs": [
    {
     "name": "stdout",
     "output_type": "stream",
     "text": [
      "/Users/aakash/Documents/Python\n"
     ]
    }
   ],
   "source": [
    "!pwd"
   ]
  },
  {
   "cell_type": "code",
   "execution_count": null,
   "id": "51402680-0b24-451f-b612-6beb494d7c43",
   "metadata": {},
   "outputs": [],
   "source": []
  }
 ],
 "metadata": {
  "kernelspec": {
   "display_name": "Python 3 (ipykernel)",
   "language": "python",
   "name": "python3"
  },
  "language_info": {
   "codemirror_mode": {
    "name": "ipython",
    "version": 3
   },
   "file_extension": ".py",
   "mimetype": "text/x-python",
   "name": "python",
   "nbconvert_exporter": "python",
   "pygments_lexer": "ipython3",
   "version": "3.12.4"
  }
 },
 "nbformat": 4,
 "nbformat_minor": 5
}
